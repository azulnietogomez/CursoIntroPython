{
 "cells": [
  {
   "cell_type": "markdown",
   "metadata": {},
   "source": [
    "# Ejercicio - Escribir declaraciones if, else y elif\n",
    "\n",
    "Las instrucciones if nos permiten ejecutar condicionalmente código Python. Se usan comúnmente para \"tomar decisiones\" sobre lo que debería suceder a continuación mientras se ejecuta el programa.\n",
    "\n",
    "Para crear una instrucción if en Python, define una expresión de prueba que pueda tener un valor True o False, seguido de un bloque de código con sangria que se ejecutará si se cumple la condición.\n",
    "\n",
    "if expresion de prueba:\n",
    "    # instruccion(es) a ejecutar\n",
    "\n",
    "Para escribir un programa con una lógica condicional más compleja, podemos agregar instrucciones else y elif al bloque de código. Tambien podemos anidar instrucciones condicionales.\n",
    "\n",
    "if expresion_prueba:\n",
    "    # instruccion(es) a ejecutar\n",
    "    if expresion_prueba:\n",
    "        # instruccion(es) a ejecutar\n",
    "    else:\n",
    "        # Instruccion(es) a ejecutar\n",
    "elif expresion_prueba:\n",
    "    # instruccion(es) a ejecutar\n",
    "else\n",
    "    # instruccion(es) a ejecutar\n",
    "\n",
    "|Tip Dedica unos minutos a tratar de encontrar una solucón. Luego desplazate hasta la parte de abajo para ver si has logrado compilar el programa de acuerdo con las especificaciones."
   ]
  },
  {
   "cell_type": "markdown",
   "metadata": {},
   "source": [
    "Para este ejercicio, escribiremos una lógica condicional que imprima una advertencia si un asterioide se acerca a la Tierra demasiado rápido. La velocidad del asteroide varía dependiendo de lo cerca que esté del sol, y cualquier velocidad superior a 25 kilometros por segundo (25k/s) merece una advertencia.\n",
    "\n"
   ]
  },
  {
   "cell_type": "markdown",
   "metadata": {},
   "source": [
    "## Practicas "
   ]
  },
  {
   "cell_type": "code",
   "execution_count": 22,
   "metadata": {},
   "outputs": [
    {
     "name": "stdout",
     "output_type": "stream",
     "text": [
      "55\n"
     ]
    }
   ],
   "source": [
    "# Tip de practica 1: Intenta ejecutarlo en un notebook.\n",
    "a = 97\n",
    "b = 55\n",
    "#Test de expresion / expresión de prueba\n",
    "if a < b:\n",
    "    # statement to be run /instrucción a ejecutar\n",
    "    print(b)"
   ]
  },
  {
   "cell_type": "code",
   "execution_count": 23,
   "metadata": {},
   "outputs": [
    {
     "name": "stdout",
     "output_type": "stream",
     "text": [
      "93\n"
     ]
    }
   ],
   "source": [
    "# Aplica el tip de practica 1.\n",
    "a = 93\n",
    "b = 27\n",
    "if a >= b:\n",
    "    print(a)"
   ]
  },
  {
   "cell_type": "code",
   "execution_count": 24,
   "metadata": {},
   "outputs": [
    {
     "name": "stdout",
     "output_type": "stream",
     "text": [
      "44\n"
     ]
    }
   ],
   "source": [
    "a = 24\n",
    "b = 44\n",
    "if a <= 0:\n",
    "    print(a)\n",
    "print(b)"
   ]
  },
  {
   "cell_type": "code",
   "execution_count": 69,
   "metadata": {},
   "outputs": [
    {
     "name": "stdout",
     "output_type": "stream",
     "text": [
      "¡Alerta! Asteroide potencialmente peligroso, velocidad de: 150 km/s\n"
     ]
    }
   ],
   "source": [
    "velocidadAsteroide = 150\n",
    "\n",
    "if velocidadAsteroide >= 25:\n",
    "    print(\"¡Alerta! Asteroide potencialmente peligroso, velocidad de: \" + str(velocidadAsterioide) + \" km/s\")\n",
    "    \n",
    "else:\n",
    "    print(\"El Asteroide no representa peligro, velocidad de: \" + str(velocidadAsterioide) + \"km/s\")"
   ]
  },
  {
   "cell_type": "markdown",
   "metadata": {},
   "source": [
    " Agrega el código para crear una variable para un asteroide que viaja a 19 km/s\n",
    " Escribe varias expresiones de prueba para determinar si puedes ver el rayo de luz desde la tierra\n",
    " Agrega las instrucciones que se ejecutarán si las expresiones de prueba son True o False"
   ]
  },
  {
   "cell_type": "code",
   "execution_count": 81,
   "metadata": {},
   "outputs": [
    {
     "name": "stdout",
     "output_type": "stream",
     "text": [
      "¡Mira al cielo, hay fuegos artificiales! \n"
     ]
    }
   ],
   "source": [
    "velocidadAsteroide = 20\n",
    "\n",
    "if velocidadAsteroide >= 20:\n",
    "    if velocidadAsteroide >= 80:\n",
    "        print(\"NO TENEMOS ESCAPATORIA!!!!!!!\")\n",
    "    elif velocidadAsteroide >= 20:\n",
    "        print(\"¡Mira al cielo, hay fuegos artificiales! \")\n",
    "else:\n",
    "    print(\"Sorry 😔 no hay fuegos artificiales\")"
   ]
  },
  {
   "cell_type": "markdown",
   "metadata": {},
   "source": [
    "### ¿Qué son los operadores 'and' y 'or'?\n",
    "\n",
    "Es posible que ocasionalmente deseemos combinar expresiones de prueba para evaluar varias condiciones if, elif y else en una instrucción.\n",
    "Para ello, utilizaremos los operadores booleanos and y or.\n",
    "\n",
    "#### El operador or\n",
    "\n",
    "Puede conectar dos expresiones booleanas o de prueba mediante el operador booleano or. Para que toda la expresión se evalúe en True, al menos una de las subexpresiones debe ser verdadera. Si ninguna de las subexpresiones es verdadera, toda la expresión se evalúa en False. por ejemplo, en la siguiente expresión, toda la expresión de prueba se evalúa True, por que se ha cumplido una de las condiciones de las subexpresiones."
   ]
  },
  {
   "cell_type": "code",
   "execution_count": 71,
   "metadata": {},
   "outputs": [
    {
     "name": "stdout",
     "output_type": "stream",
     "text": [
      "57\n"
     ]
    }
   ],
   "source": [
    "a = 23\n",
    "b = 34\n",
    "if a == 34 or b == 34:\n",
    "    print(a+b)"
   ]
  },
  {
   "cell_type": "markdown",
   "metadata": {},
   "source": [
    "Si ambas subexpresiones son verdaderas, toda la expresión de prueba tambien evalúa True.\n",
    "\n",
    "Una expresión booleana que utiliza or tiene la sitnaxis siguiente:\n",
    "\n",
    "subexpresión1 or subexpresión2"
   ]
  },
  {
   "cell_type": "markdown",
   "metadata": {},
   "source": [
    "#### El operador and\n",
    "\n",
    "Tambien podemos conectar dos expresiones de prueba mediante el operador booleano and.\n",
    "\n",
    "ambas condiciones de la expresion de prueba deben ser verdaderas para que toda la expresión de prueba se evalúe en True. En cualquier otro caso, la expresión de prueba es False. En el ejemplo siguiente, toda la expresión de prueba se evalúa en False, por que sólo una de las condiciones de las subexpresiones es True:"
   ]
  },
  {
   "cell_type": "code",
   "execution_count": 75,
   "metadata": {},
   "outputs": [
    {
     "name": "stdout",
     "output_type": "stream",
     "text": [
      "ta´mal compi\n"
     ]
    }
   ],
   "source": [
    "a = 23\n",
    "b = 34\n",
    "if a == 34 and b == 34:\n",
    "    print (a + b)\n",
    "else:\n",
    "    print(\"ta´mal compi\")"
   ]
  },
  {
   "cell_type": "markdown",
   "metadata": {},
   "source": [
    "Una expresión que usa and tiene la sintaxis siguiente:\n",
    "\n",
    "subexpresión1 and subexpresión2"
   ]
  },
  {
   "cell_type": "markdown",
   "metadata": {},
   "source": [
    "#### La diferencia entre and y or\n",
    "\n",
    "Para resaltar la diferencia entre los dos operadores booleanos, podemos utulizar una tabla de verdad. Una tabla de verdad muestra a que se evalúa toda la expresión de prueba en función de las dos subexpresiones.\n",
    "\n",
    "Aquí está la tabla de la verdad para: and\n",
    "\n",
    "| **subexpresión1** | **Operador** |  **subexpresión2** |  **Resultado** |\n",
    "|--|--|--|--|\n",
    "|True|and|True|True|\n",
    "|True|and|False|False|\n",
    "|False|and|True|False|\n",
    "|False|and|False|False|\n",
    "\n",
    "Aquí estña la tabla de verdad para: or\n",
    "\n",
    "| **subexpresión1** | **Operador** |  **subexpresión2** |  **Resultado** |\n",
    "|--|--|--|--|\n",
    "|True|or|True|True|\n",
    "|True|or|False|True|\n",
    "|False|or|True|True|\n",
    "|False|or|False|False|\n",
    "\n"
   ]
  },
  {
   "cell_type": "markdown",
   "metadata": {},
   "source": [
    "## Ejercicios - Uso de operadores and y or\n",
    "\n",
    "En el ejercicio anterior trabajmos con sentecias if, else, y elif para escribir programas con lógica condicional compleja. Para crear expresiones booleanas aún mas interesantes, podemos usar los operadores and y or en Python.\n",
    "\n",
    "Las expresiones and son sólo si ambas subexpresiones son verdaderas.\n",
    "\n",
    "expresión1 and expresión2\n",
    "\n",
    "Las expresiones or son True si al menos una subexpresión es verdadera.\n",
    "\n",
    "expresión1 or expresión2\n",
    "\n",
    "En este ejercicio, aprenderemos información más matizada sobre cúando los asteroides representan un peligro para la Tierra, y utilizaremos esa información para mejorar nuestro sistema de advertencia. Aquí está la nueva información que necesitamos saber:\n",
    "\n",
    "*Los asteroides de menos de 25 metros en su dimensión más grande probablemente se quemarán a medida que entren en la atmósfera de la Tierra.\n",
    "\n",
    "*Si una pieza de un asteroide que es más grande que 25 metros pero más pequeño que 1000 metros golpeara la Tierra, causaría mucho daño.\n",
    "\n",
    "También discutimos en el ejercicio anterior que:\n",
    "\n",
    "* La velocidad del asteroide varía en función de lo cerca que esté del sol, y cualquier velocidad superior a 25 kilíometros por segundo (km/s) merece una advertencia.\n",
    "* Si un asteroide entra en la atmósfera de la Tierra a una velocidad mayor o igual a 20 km/s, a veces produce un rayo de luz que se puede ver desde la Tierra.\n",
    "\n",
    "Usando toda esta información, escribe un programa que emita la advertencia o información correcta a la gente de la Tierra, según la velocidad y el tamaño de un asteroide. Utiliza instrucciones if, else, y elif, así como los operadores and y or.\n"
   ]
  },
  {
   "cell_type": "code",
   "execution_count": null,
   "metadata": {},
   "outputs": [],
   "source": [
    "# Agrega el código para crear nuevas variables para la velocidad y el tamaño del asteroide\n",
    "# Para probar el código, prueba con varias velocidades y tamaños\n",
    "# Escribe varias expresiones de prueba o combinaciones de expresiones de prueba para determinar qué mensaje se debe enviar a Tierra."
   ]
  },
  {
   "cell_type": "code",
   "execution_count": 122,
   "metadata": {},
   "outputs": [
    {
     "name": "stdout",
     "output_type": "stream",
     "text": [
      "¡Alerta! Asteroide potencialmente peligroso detectado, tamaño: 26 mts, velocidad 26km/s\n"
     ]
    }
   ],
   "source": [
    "velocidadAsteroide = 26\n",
    "tamanoAsteroide = 26\n",
    "\n",
    "if velocidadAsteroide > 25 or tamanoAsteroide > 25: # si es true, sigue con abajo, si es false salta al elif\n",
    "    if velocidadAsteroide > 25 and tamanoAsteroide > 25: # si es true sigue abajo\n",
    "        print(\"¡Alerta! Asteroide potencialmente peligroso detectado, tamaño: \" + str(tamanoAsteroide) + \" mts, velocidad \" + str(velocidadAsteroide) + \"km/s\")\n",
    "elif tamanoAsteroide <= 20 and velocidadAsteroide <= 20:\n",
    "    print(\"Fuegos artificiales!\")\n",
    "else:\n",
    "    print(\"Tranqui que no pasa nah\")"
   ]
  }
 ],
 "metadata": {
  "interpreter": {
   "hash": "527c95e7a0430f8bb81fed8e29523896c747d7f3130d52e4cd8f84e566a79886"
  },
  "kernelspec": {
   "display_name": "Python 3.9.10 64-bit ('3.9.10')",
   "language": "python",
   "name": "python3"
  },
  "language_info": {
   "codemirror_mode": {
    "name": "ipython",
    "version": 3
   },
   "file_extension": ".py",
   "mimetype": "text/x-python",
   "name": "python",
   "nbconvert_exporter": "python",
   "pygments_lexer": "ipython3",
   "version": "3.9.10"
  },
  "orig_nbformat": 4
 },
 "nbformat": 4,
 "nbformat_minor": 2
}
