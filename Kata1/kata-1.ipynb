{
 "cells": [
  {
   "cell_type": "markdown",
   "metadata": {},
   "source": [
    "# Objetivo Principal\n",
    "\n",
    "Usar los elementos básicos de programación para crear mis primeros programas Python."
   ]
  },
  {
   "cell_type": "markdown",
   "metadata": {},
   "source": [
    "## Un programa en Python\n",
    "\n",
    "Para crear un programa en Python se debe de almacenar el archivo con una extension .py.\n",
    "\n",
    "La idea de un programa es que haga algo, llevar acabo una tarea. Para esto se deben agregar instrucciones especificas las cuales podrán calcular algo o imprimir algun texto.\n",
    "\n",
    "Por ejemplo:"
   ]
  },
  {
   "cell_type": "code",
   "execution_count": 11,
   "metadata": {},
   "outputs": [
    {
     "name": "stdout",
     "output_type": "stream",
     "text": [
      "3\n"
     ]
    }
   ],
   "source": [
    "# program.py\n",
    "sum = 1 +2 \n",
    "print(sum)"
   ]
  },
  {
   "cell_type": "markdown",
   "metadata": {},
   "source": [
    "### Ejecutar un programa\n",
    "\n",
    "Para ejecutar un programa como el anterior debemos invocar el programa ejecutable de Python, seguido del nombre del programa, por ejemplo:"
   ]
  },
  {
   "cell_type": "markdown",
   "metadata": {},
   "source": [
    "python3 program.py\n",
    "\n",
    "La ejecución de este programa, mostrara el sigiente resultado: 3"
   ]
  },
  {
   "cell_type": "markdown",
   "metadata": {},
   "source": [
    "### Funcion Print\n",
    "\n",
    "Una de las primeras cosas que haremos será imprimir en una consola.\n",
    "\n",
    "Para escribir información en la consola, podemos utilizar la función e implementarla como funcion principal. por ejemplo:"
   ]
  },
  {
   "cell_type": "code",
   "execution_count": 12,
   "metadata": {},
   "outputs": [
    {
     "name": "stdout",
     "output_type": "stream",
     "text": [
      "Hola desde la consola :D\n"
     ]
    }
   ],
   "source": [
    "# Impresión en pantalla\n",
    "print('Hola desde la consola :D')"
   ]
  },
  {
   "cell_type": "markdown",
   "metadata": {},
   "source": [
    "### Variables\n",
    "\n",
    "En programacion estamos operando con datos. Como nuestro programa está trabajando con datos, es posible que tenga que recordar un cierto valor durante la ejecución del programa. Para eso son las variables."
   ]
  },
  {
   "cell_type": "code",
   "execution_count": 13,
   "metadata": {},
   "outputs": [
    {
     "name": "stdout",
     "output_type": "stream",
     "text": [
      "6\n"
     ]
    }
   ],
   "source": [
    "sum = 1 + 2 # 3\n",
    "product = sum * 2\n",
    "print(product)"
   ]
  },
  {
   "cell_type": "markdown",
   "metadata": {},
   "source": [
    "### Tipos de datos\n",
    "\n",
    "Una variable asume un tipo de datos. existen muchos tipos de datos, por ejemplo:\n",
    "\n",
    "| **Tipo** | **Descripción** | **Ejemplo** |\n",
    "|--|--|--|\n",
    "|Tipo numérico| Número, con o sin decimales| int, float, complex, no = 3|\n",
    "|Tipo de texto| Cadena de caracteres| str = \"a literal string\"|\n",
    "|Tio booleano| Booleano| continue = True|\n",
    "\n",
    "#### ¿como sabemos qué tipo tiene algo? \n",
    "\n",
    "Podemos usar la funcion :type()\n",
    "\n"
   ]
  },
  {
   "cell_type": "code",
   "execution_count": 14,
   "metadata": {},
   "outputs": [
    {
     "data": {
      "text/plain": [
       "float"
      ]
     },
     "execution_count": 14,
     "metadata": {},
     "output_type": "execute_result"
    }
   ],
   "source": [
    "# Declaramos la variable\n",
    "distancia_a_alfa_centauri = 4.367\n",
    "\n",
    "# Descubrimos su tipo de dato\n",
    "type(distancia_a_alfa_centauri)"
   ]
  },
  {
   "cell_type": "markdown",
   "metadata": {},
   "source": [
    "### Operadores\n",
    "\n",
    "Los operadores nos permiten realizar cálculos sobre variables y sus valores.\n",
    "La idea general es que tenemos un lado izquierdo y un lado derecho con un operador en medio:\n",
    "\n",
    "< left side > < operator > < right side >\n",
    "\n",
    "Así es como se vería un ejemplo real de codigo:\n",
    "\n",
    "left_side = 10\n",
    "\n",
    "right_side = 5\n",
    "\n",
    "left_side / right_side # 2\n",
    "\n",
    "Python usa dos tipos de operadores: aritméticos y de asignación.\n",
    "\n",
    "#### Operadores aritméticos\n",
    "\n",
    "Con ellos se realizan calculos como suma, resta, división y multiplicación.\n",
    "\n",
    "#### Operadores de asignación\n",
    "\n",
    "Con estos operadores podemos asignar calores a una variable a lo largo del ciclo de vida de esta."
   ]
  },
  {
   "cell_type": "markdown",
   "metadata": {},
   "source": [
    "### Fechas\n",
    "\n",
    "Cuando creamos programas, es probable que interactuemos con fechas. Una fecha en un programa por lo general significa tanto la fecha del calendario como la hora.\n",
    "\n",
    "Una fecha se puede usar en varias  aplicaciones, por ejemplo: \n",
    "\n",
    "* **Archivo de copia de seguridad.** Usar una fecha como parte del nombre de un archivo de copia de seguridad es una buena manera de indicar cuándo se realizó una copia de seguridad y cuándo debe realizarse nuevamente.\n",
    "* **Condición.** Es posible que necesitemos llevar una logíca especifica dependiendo de una fecha determinada.\n",
    "* **Métrica** Las fechas se utilizan para comprobar el rendimiento del código para, por ejemplo, medir el tiempo que se tarda en ejecutar una función.\n",
    "\n",
    "Para trabajar con una fecha, debemos importar el módulo: date\n",
    "\n",
    "from datetime import date\n",
    "\n",
    "A continuación, podemos invocar las funciones con las que queramoos trabajar. Para obtener la fecha de hoy podemos llamar la función: today()\n",
    "\n",
    "print(date.today())\n",
    "\n"
   ]
  },
  {
   "cell_type": "code",
   "execution_count": 15,
   "metadata": {},
   "outputs": [
    {
     "name": "stdout",
     "output_type": "stream",
     "text": [
      "2022-02-09\n"
     ]
    }
   ],
   "source": [
    "# Importamos la biblioteca\n",
    "from datetime import date\n",
    "\n",
    "# Obtenemos la fecha de hoy \n",
    "date.today()\n",
    "\n",
    "# Mostramos la fecha en la consola\n",
    "print(date.today())"
   ]
  },
  {
   "cell_type": "markdown",
   "metadata": {},
   "source": [
    "### Conversión de tipo de datos\n",
    "\n",
    "Si queremos usar una fecha con un mensaje suele ser un problema, por ejemplo, queremos mostrar la fecha de hoy en la consola, es posible que tengamos este problema:\n"
   ]
  },
  {
   "cell_type": "code",
   "execution_count": 16,
   "metadata": {},
   "outputs": [
    {
     "ename": "TypeError",
     "evalue": "can only concatenate str (not \"datetime.date\") to str",
     "output_type": "error",
     "traceback": [
      "\u001b[0;31m---------------------------------------------------------------------------\u001b[0m",
      "\u001b[0;31mTypeError\u001b[0m                                 Traceback (most recent call last)",
      "\u001b[1;32m/Users/azul/Desktop/proyectos-azul/LaunchX/kata-1.ipynb Cell 16'\u001b[0m in \u001b[0;36m<module>\u001b[0;34m\u001b[0m\n\u001b[0;32m----> <a href='vscode-notebook-cell:/Users/azul/Desktop/proyectos-azul/LaunchX/kata-1.ipynb#ch0000024?line=0'>1</a>\u001b[0m \u001b[39mprint\u001b[39m(\u001b[39m\"\u001b[39;49m\u001b[39mToday´s date is \u001b[39;49m\u001b[39m\"\u001b[39;49m \u001b[39m+\u001b[39;49m date\u001b[39m.\u001b[39;49mtoday())\n",
      "\u001b[0;31mTypeError\u001b[0m: can only concatenate str (not \"datetime.date\") to str"
     ]
    }
   ],
   "source": [
    "print(\"Today´s date is \" + date.today())"
   ]
  },
  {
   "cell_type": "markdown",
   "metadata": {},
   "source": [
    "La ultima fila del mensaje nos indica cuál es el problema. Está intentando usar el operador + y combinar dos tipos de datos diferentes, una cadena (String) y una fecha.\n",
    "\n",
    "Para que este código funcione, debe convertir la fecha en una cadena. para lograr tal conversión mediante el uso de la funcion de utilidad: str()"
   ]
  },
  {
   "cell_type": "code",
   "execution_count": null,
   "metadata": {},
   "outputs": [
    {
     "name": "stdout",
     "output_type": "stream",
     "text": [
      "Today´s date is: 2022-02-09\n"
     ]
    }
   ],
   "source": [
    "print(\"Today´s date is: \" + str(date.today()))"
   ]
  },
  {
   "cell_type": "markdown",
   "metadata": {},
   "source": [
    "## Recopilar información\n",
    "\n",
    "Analizaremos cómo puede recopilar la entrada de tanto la línea de comandos como de la entrada del usuario.\n"
   ]
  },
  {
   "cell_type": "markdown",
   "metadata": {},
   "source": [
    "### Entrada del usuario\n",
    "\n",
    "Podemos codificarlo para que el programa le diga al usuario que ingrese información. Guarde los datos introducidos en el programa y, a continuación actúe en consecuencia.\n",
    "\n",
    "Para capturar información del usuario, utilzaremos la funcion (por ejemplo): input()"
   ]
  },
  {
   "cell_type": "code",
   "execution_count": 21,
   "metadata": {},
   "outputs": [
    {
     "name": "stdout",
     "output_type": "stream",
     "text": [
      "Bienvenido al programa de bienvenida\n",
      "¡Hola! Azul\n"
     ]
    }
   ],
   "source": [
    "print(\"Bienvenido al programa de bienvenida\")\n",
    "name = input(\"Introduzca su nombre \")\n",
    "print(\"¡Hola! \" + name)"
   ]
  },
  {
   "cell_type": "markdown",
   "metadata": {},
   "source": [
    "### Trabajar con números\n",
    "\n",
    "La función almacena un resultado como una cadena. Por lo tanto, es posoble que el siguiente código no haga lo que desea que haga: input()"
   ]
  },
  {
   "cell_type": "code",
   "execution_count": 26,
   "metadata": {},
   "outputs": [
    {
     "name": "stdout",
     "output_type": "stream",
     "text": [
      "Calculadora\n",
      "34\n"
     ]
    }
   ],
   "source": [
    "print(\"Calculadora\")\n",
    "first_number = input(\"Primer número: \")\n",
    "second_number = input(\"Segundo número: \")\n",
    "print(first_number + second_number)"
   ]
  },
  {
   "cell_type": "markdown",
   "metadata": {},
   "source": [
    "Nosotros queremos que el programa nos responda con 7 en lugar de 34. Entonces ¿Que hicimos mal? :c\n",
    "\n",
    "La explicación es que el programa toma los datos como si fueran 'Cadenas de texto'\n",
    "Para que el cálculo funcione correctamente, debemos de cambiar la cadena de texto a números mediante la funcion int(). Modificando la última línea del programa a utilizar, podemos resolver el problema."
   ]
  },
  {
   "cell_type": "code",
   "execution_count": 28,
   "metadata": {},
   "outputs": [
    {
     "name": "stdout",
     "output_type": "stream",
     "text": [
      "Calculadora\n",
      "7\n"
     ]
    }
   ],
   "source": [
    "print(\"Calculadora\")\n",
    "first_number = input(\"Primer número: \")\n",
    "second_number = input(\"Segundo número: \")\n",
    "print(int(first_number) + int(second_number))"
   ]
  }
 ],
 "metadata": {
  "interpreter": {
   "hash": "527c95e7a0430f8bb81fed8e29523896c747d7f3130d52e4cd8f84e566a79886"
  },
  "kernelspec": {
   "display_name": "Python 3.9.10 64-bit ('3.9.10')",
   "language": "python",
   "name": "python3"
  },
  "language_info": {
   "codemirror_mode": {
    "name": "ipython",
    "version": 3
   },
   "file_extension": ".py",
   "mimetype": "text/x-python",
   "name": "python",
   "nbconvert_exporter": "python",
   "pygments_lexer": "ipython3",
   "version": "3.9.10"
  },
  "orig_nbformat": 4
 },
 "nbformat": 4,
 "nbformat_minor": 2
}
